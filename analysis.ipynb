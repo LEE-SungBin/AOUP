{
 "cells": [
  {
   "cell_type": "code",
   "execution_count": null,
   "metadata": {},
   "outputs": [],
   "source": [
    "import numpy as np\n",
    "import matplotlib.pyplot as plt\n",
    "import sys\n",
    "import itertools\n",
    "from matplotlib.colors import Normalize, LogNorm\n",
    "\n",
    "sys.path.append(\"..\")"
   ]
  },
  {
   "cell_type": "code",
   "execution_count": null,
   "metadata": {},
   "outputs": [],
   "source": [
    "from manage_data import get_conditions, load_result, delete_all, delete_result"
   ]
  },
  {
   "cell_type": "code",
   "execution_count": null,
   "metadata": {},
   "outputs": [],
   "source": [
    "base_conditions = get_conditions(\n",
    "    N_particle = None,\n",
    "    N_ensemble = None,\n",
    "    velocity = None,\n",
    "    Lambda = None,\n",
    "    boundary = None,\n",
    "    N_bins = None,\n",
    "    gamma = None,\n",
    "    slope = None,\n",
    "    temperature = None,\n",
    "    tau = None,\n",
    "    Da = None,\n",
    "    delta_t = None,\n",
    "    initial = None,\n",
    "    sampling = None,\n",
    ")\n",
    "print(base_conditions)"
   ]
  },
  {
   "cell_type": "code",
   "execution_count": null,
   "metadata": {},
   "outputs": [],
   "source": [
    "df = load_result(conditions=base_conditions)\n",
    "df"
   ]
  },
  {
   "cell_type": "code",
   "execution_count": null,
   "metadata": {},
   "outputs": [],
   "source": [
    "# delete = df[df[\"size\"] == 128]\n",
    "delete = df\n",
    "print(list(delete[\"key\"]))\n",
    "print(len(list(delete[\"key\"])))\n",
    "# delete_result(list(delete[\"key\"]))"
   ]
  },
  {
   "cell_type": "code",
   "execution_count": null,
   "metadata": {},
   "outputs": [],
   "source": [
    "# delete_all()"
   ]
  },
  {
   "cell_type": "code",
   "execution_count": null,
   "metadata": {},
   "outputs": [],
   "source": [
    "x, y = sorted(set(df[\"slope\"].to_numpy())), sorted(set(df[\"Lambda\"].to_numpy()))\n",
    "print(f\"{x=}, {y=}\")"
   ]
  },
  {
   "cell_type": "code",
   "execution_count": null,
   "metadata": {},
   "outputs": [],
   "source": [
    "data = np.zeros((len(x), len(y)))\n",
    "\n",
    "for i, slope in enumerate(x):\n",
    "    for j, Lambda in enumerate(y):\n",
    "        conditions = get_conditions(slope=slope, Lambda=Lambda)\n",
    "        data[i,j] = df.query(\" and \".join(conditions))[\"average\"].to_numpy()\n",
    "\n",
    "data = np.transpose(data)\n",
    "print(data)"
   ]
  },
  {
   "cell_type": "code",
   "execution_count": null,
   "metadata": {},
   "outputs": [],
   "source": [
    "fig, ax = plt.subplots()\n",
    "\n",
    "c = ax.pcolor(x, y, data, shading='auto',\n",
    "               norm=Normalize(vmin=data.min(), vmax=data.max()), cmap='PuBu_r')\n",
    "\n",
    "fig.colorbar(c, ax=ax)\n",
    "\n",
    "ax.set_title(\"AOUP drag\")\n",
    "ax.set_xlabel(r\"Force $f$\")\n",
    "ax.set_ylabel(r\"Size $\\lambda$\")\n",
    "\n",
    "plt.show()"
   ]
  },
  {
   "cell_type": "code",
   "execution_count": null,
   "metadata": {},
   "outputs": [],
   "source": []
  }
 ],
 "metadata": {
  "kernelspec": {
   "display_name": "research",
   "language": "python",
   "name": "python3"
  },
  "language_info": {
   "codemirror_mode": {
    "name": "ipython",
    "version": 3
   },
   "file_extension": ".py",
   "mimetype": "text/x-python",
   "name": "python",
   "nbconvert_exporter": "python",
   "pygments_lexer": "ipython3",
   "version": "3.11.4"
  },
  "orig_nbformat": 4
 },
 "nbformat": 4,
 "nbformat_minor": 2
}
