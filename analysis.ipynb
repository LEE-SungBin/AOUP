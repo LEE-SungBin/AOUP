{
 "cells": [
  {
   "cell_type": "code",
   "execution_count": null,
   "metadata": {},
   "outputs": [],
   "source": [
    "import numpy as np\n",
    "import matplotlib.pyplot as plt\n",
    "import sys\n",
    "import itertools\n",
    "from matplotlib.colors import Normalize, LogNorm\n",
    "\n",
    "sys.path.append(\"..\")"
   ]
  },
  {
   "cell_type": "code",
   "execution_count": null,
   "metadata": {},
   "outputs": [],
   "source": [
    "from manage_data import get_conditions, load_result, delete_all, delete_result"
   ]
  },
  {
   "cell_type": "code",
   "execution_count": null,
   "metadata": {},
   "outputs": [],
   "source": [
    "# delete_all()"
   ]
  },
  {
   "cell_type": "code",
   "execution_count": null,
   "metadata": {},
   "outputs": [],
   "source": [
    "df = load_result(conditions=get_conditions(\n",
    "    N_particle = None,\n",
    "    N_ensemble = None,\n",
    "    velocity = None,\n",
    "    Lambda = None,\n",
    "    boundary = None,\n",
    "    N_bins = None,\n",
    "    gamma = None,\n",
    "    slope = None,\n",
    "    temperature = None,\n",
    "    tau = None,\n",
    "    Da = None,\n",
    "    delta_t = None,\n",
    "    initial = None,\n",
    "    sampling = None\n",
    "    )\n",
    ")\n",
    "\n",
    "df"
   ]
  },
  {
   "cell_type": "code",
   "execution_count": null,
   "metadata": {},
   "outputs": [],
   "source": [
    "# delete = df[df[\"size\"] == 128]\n",
    "delete = df\n",
    "print(list(delete[\"key\"]))\n",
    "print(len(list(delete[\"key\"])))\n",
    "# delete_result(list(delete[\"key\"]))"
   ]
  },
  {
   "cell_type": "code",
   "execution_count": null,
   "metadata": {},
   "outputs": [],
   "source": [
    "x, y = sorted(set(df[\"slope\"].to_numpy())), sorted(set(df[\"Lambda\"].to_numpy()))\n",
    "print(f\"{x=}, {y=}\")"
   ]
  },
  {
   "cell_type": "code",
   "execution_count": null,
   "metadata": {},
   "outputs": [],
   "source": [
    "average, std, sample_size = (\n",
    "    np.zeros((len(x), len(y))), np.zeros((len(x), len(y))), np.zeros((len(x), len(y))))\n",
    "\n",
    "for i, slope in enumerate(x):\n",
    "    for j, Lambda in enumerate(y):\n",
    "        conditions = get_conditions(slope=slope, Lambda=Lambda)\n",
    "        filtered_df = df.query(\" and \".join(conditions))\n",
    "        \n",
    "        ensembles, N_ensembles = filtered_df[\"average\"].to_numpy(), filtered_df[\"N_ensemble\"].to_numpy()\n",
    "        \n",
    "        if len(ensembles) == 0: continue\n",
    "        else:\n",
    "            average[i,j] = np.mean(ensembles[0])\n",
    "            std[i,j] = np.std(ensembles[0])\n",
    "            sample_size[i,j] = N_ensembles[0]\n",
    "\n",
    "mask = (sample_size == 0)\n",
    "print(mask.astype(np.int64).sum())\n",
    "\n",
    "average = np.transpose(average)\n",
    "std = np.transpose(std)\n",
    "sample_size = np.transpose(sample_size)\n",
    "\n",
    "print(f\"{average=} {std=} {sample_size=}\")"
   ]
  },
  {
   "cell_type": "code",
   "execution_count": null,
   "metadata": {},
   "outputs": [],
   "source": [
    "fig, ax = plt.subplots()\n",
    "\n",
    "c = ax.pcolor(x, y, average, shading=\"auto\",\n",
    "               norm=Normalize(vmin=average.min(), vmax=0), cmap=\"bone\")\n",
    "\n",
    "fig.colorbar(c, ax=ax)\n",
    "\n",
    "ax.set_title(\"AOUP drag\")\n",
    "ax.set_xlabel(rf\"Force $f$\")\n",
    "ax.set_ylabel(rf\"Size $\\lambda$\")\n",
    "\n",
    "plt.show()"
   ]
  },
  {
   "cell_type": "code",
   "execution_count": null,
   "metadata": {},
   "outputs": [],
   "source": [
    "from scipy.stats import norm\n",
    "\n",
    "Z = (average - 0) / (std / np.sqrt(sample_size))\n",
    "Z[np.isnan(Z)] = 0.0\n",
    "\n",
    "p_value = norm.cdf(Z)\n",
    "print(p_value.min())\n",
    "\n",
    "fig, ax = plt.subplots()\n",
    "\n",
    "c = ax.pcolor(x, y, p_value, shading='auto',\n",
    "               norm=LogNorm(vmin=p_value.min(), vmax=1.e-2), cmap=\"bone\")\n",
    "\n",
    "fig.colorbar(c, ax=ax)\n",
    "\n",
    "ax.set_title(\"T-Test p-value\")\n",
    "ax.set_xlabel(rf\"Force $f$\")\n",
    "ax.set_ylabel(rf\"Size $\\lambda$\")\n",
    "\n",
    "plt.show()"
   ]
  },
  {
   "cell_type": "code",
   "execution_count": null,
   "metadata": {},
   "outputs": [],
   "source": [
    "import numpy as np\n",
    "import numpy.typing as npt\n",
    "from numba import njit\n",
    "\n",
    "@njit\n",
    "def mask(arr: npt.NDArray, mask: npt.NDArray):\n",
    "    force = np.zeros(shape=(10, 10)).reshape(-1)\n",
    "    mask2 = force > 1\n",
    "    force[mask2] = 0\n",
    "    \n",
    "    return force.reshape(10,10)\n",
    "\n",
    "print(mask(np.array([1,2,3]), np.array([True, False, True])))"
   ]
  },
  {
   "cell_type": "code",
   "execution_count": 17,
   "metadata": {},
   "outputs": [
    {
     "name": "stdout",
     "output_type": "stream",
     "text": [
      "[0.01 0.02 0.03 0.04 0.05 0.06 0.07 0.08 0.09 0.1  0.11 0.12 0.13 0.14\n",
      " 0.15 0.16 0.17 0.18 0.19 0.2  0.21 0.22 0.23 0.24 0.25]\n"
     ]
    }
   ],
   "source": [
    "import numpy as np\n",
    "Lambdas = np.round(np.linspace(0.01, 0.25, 25), 2)\n",
    "print(Lambdas)"
   ]
  },
  {
   "cell_type": "code",
   "execution_count": null,
   "metadata": {},
   "outputs": [],
   "source": []
  }
 ],
 "metadata": {
  "kernelspec": {
   "display_name": "research",
   "language": "python",
   "name": "python3"
  },
  "language_info": {
   "codemirror_mode": {
    "name": "ipython",
    "version": 3
   },
   "file_extension": ".py",
   "mimetype": "text/x-python",
   "name": "python",
   "nbconvert_exporter": "python",
   "pygments_lexer": "ipython3",
   "version": "3.11.4"
  },
  "orig_nbformat": 4
 },
 "nbformat": 4,
 "nbformat_minor": 2
}
