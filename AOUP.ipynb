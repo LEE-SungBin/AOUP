{
 "cells": [
  {
   "cell_type": "code",
   "execution_count": 1,
   "metadata": {},
   "outputs": [],
   "source": [
    "import numpy as np\n",
    "import numpy.typing as npt\n",
    "import matplotlib.pyplot as plt\n",
    "import matplotlib.animation as animation\n",
    "from dataclasses import dataclass, field, asdict\n",
    "import argparse\n",
    "\n",
    "from AOUP import Parameter, AOUP"
   ]
  },
  {
   "cell_type": "code",
   "execution_count": 2,
   "metadata": {},
   "outputs": [
    {
     "name": "stdout",
     "output_type": "stream",
     "text": [
      "Parameter(N_particle=1, N_ensemble=10, velocity=1.0, Lambda=1.0, boundary=5.0, N_bins=40, gamma=1.0, slope=5.0, temperature=1.0, tau=5.0, Da=5.0, delta_t=0.01, initial=1000, sampling=1000)\n"
     ]
    }
   ],
   "source": [
    "parameter = Parameter(\n",
    "    N_particle = 1,\n",
    "    N_ensemble = 10,\n",
    "    velocity = 1.0,\n",
    "    Lambda = 1.0,\n",
    "    boundary = 5.0,\n",
    "    N_bins = 40,\n",
    "    gamma = 1.0,\n",
    "    slope = 5.0,\n",
    "    temperature = 1.0,\n",
    "    tau = 5.0,\n",
    "    Da = 5.0,\n",
    "    delta_t = 0.01,\n",
    "    initial = 1000,\n",
    "    sampling = 1000,\n",
    ")\n",
    "\n",
    "print(parameter)"
   ]
  },
  {
   "cell_type": "code",
   "execution_count": 3,
   "metadata": {},
   "outputs": [
    {
     "name": "stdout",
     "output_type": "stream",
     "text": [
      "0 0 1 2 3 4 5 6 7 8 9 10 11 12 13 14 15 16 17 18 19 20 21 22 23 24 25 26 27 28 29 30 31 32 33 34 35 36 37 38 39 40 41 42 43 44 45 46 47 48 49 50 51 52 53 54 55 56 57 58 59 60 61 62 63 64 65 66 67 68 69 70 71 72 73 74 75 76 77 78 79 80 81 82 83 84 85 86 87 88 89 90 91 92 93 94 95 96 97 98 99 100 101 102 103 104 105 106 107 108 109 110 111 112 113 114 115 116 117 118 119 120 121 122 123 124 125 126 127 128 129 130 131 132 133 134 135 136 137 138 139 140 141 142 143 144 145 146 147 148 149 150 151 152 153 154 155 156 157 158 159 160 161 162 163 164 165 166 167 168 169 170 171 172 173 174 175 176 177 178 179 180 181 182 183 184 185 186 187 188 189 190 191 192 193 194 195 196 197 198 199 200 201 202 203 204 205 206 207 208 209 210 211 212 213 214 215 216 217 218 219 220 221 222 223 224 225 226 227 228 229 230 231 232 233 234 235 236 237 238 239 240 241 242 243 244 245 246 247 248 249 250 251 252 253 254 255 256 257 258 259 260 261 262 263 264 265 266 267 268 269 270 271 272 273 274 275 276 277 278 279 280 281 282 283 284 285 286 287 288 289 290 291 292 293 294 295 296 297 298 299 300 301 302 303 304 305 306 307 308 309 310 311 312 313 314 315 316 317 318 319 320 321 322 323 324 325 326 327 328 329 330 331 332 333 334 335 336 337 338 339 340 341 342 343 344 345 346 347 348 349 350 351 352 353 354 355 356 357 358 359 360 361 362 363 364 365 366 367 368 369 370 371 372 373 374 375 376 377 378 379 380 381 382 383 384 385 386 387 388 389 390 391 392 393 394 395 396 397 398 399 400 401 402 403 404 405 406 407 408 409 410 411 412 413 414 415 416 417 418 419 420 421 422 423 424 425 426 427 428 429 430 431 432 433 434 435 436 437 438 439 440 441 442 443 444 445 446 447 448 449 450 451 452 453 454 455 456 457 458 459 460 461 462 463 464 465 466 467 468 469 470 471 472 473 474 475 476 477 478 479 480 481 482 483 484 485 486 487 488 489 490 491 492 493 494 495 496 497 498 499 500 501 502 503 504 505 506 507 508 509 510 511 512 513 514 515 516 517 518 519 520 521 522 523 524 525 526 527 528 529 530 531 532 533 534 535 536 537 538 539 540 541 542 543 544 545 546 547 548 549 550 551 552 553 554 555 556 557 558 559 560 561 562 563 564 565 566 567 568 569 570 571 572 573 574 575 576 577 578 579 580 581 582 583 584 585 586 587 588 589 590 591 592 593 594 595 596 597 598 599 600 601 602 603 604 605 606 607 608 609 610 611 612 613 614 615 616 617 618 619 620 621 622 623 624 625 626 627 628 629 630 631 632 633 634 635 636 637 638 639 640 641 642 643 644 645 646 647 648 649 650 651 652 653 654 655 656 657 658 659 660 661 662 663 664 665 666 667 668 669 670 671 672 673 674 675 676 677 678 679 680 681 682 683 684 685 686 687 688 689 690 691 692 693 694 695 696 697 698 699 700 701 702 703 704 705 706 707 708 709 710 711 712 713 714 715 716 717 718 719 720 721 722 723 724 725 726 727 728 729 730 731 732 733 734 735 736 737 738 739 740 741 742 743 744 745 746 747 748 749 750 751 752 753 754 755 756 757 758 759 760 761 762 763 764 765 766 767 768 769 770 771 772 773 774 775 776 777 778 779 780 781 782 783 784 785 786 787 788 789 790 791 792 793 794 795 796 797 798 799 800 801 802 803 804 805 806 807 808 809 810 811 812 813 814 815 816 817 818 819 820 821 822 823 824 825 826 827 828 829 830 831 832 833 834 835 836 837 838 839 840 841 842 843 844 845 846 847 848 849 850 851 852 853 854 855 856 857 858 859 860 861 862 863 864 865 866 867 868 869 870 871 872 873 874 875 876 877 878 879 880 881 882 883 884 885 886 887 888 889 890 891 892 893 894 895 896 897 898 899 900 901 902 903 904 905 906 907 908 909 910 911 912 913 914 915 916 917 918 919 920 921 922 923 924 925 926 927 928 929 930 931 932 933 934 935 936 937 938 939 940 941 942 943 944 945 946 947 948 949 950 951 952 953 954 955 956 957 958 959 960 961 962 963 964 965 966 967 968 969 970 971 972 973 974 975 976 977 978 979 980 981 982 983 984 985 986 987 988 989 990 991 992 993 994 995 996 997 998 999 "
     ]
    },
    {
     "data": {
      "image/png": "[encoded data removed]",
      "text/plain": [
       "<Figure size 640x480 with 1 Axes>"
      ]
     },
     "metadata": {},
     "output_type": "display_data"
    }
   ],
   "source": [
    "aoup = AOUP(parameter)\n",
    "aoup.animation()"
   ]
  },
  {
   "cell_type": "code",
   "execution_count": 4,
   "metadata": {},
   "outputs": [],
   "source": [
    "import numpy as np\n",
    "\n",
    "rng = np.random.default_rng()\n",
    "positions = rng.uniform(low=-5, high=5, size=(100, 10000))\n",
    "\n",
    "def loop():\n",
    "    condition = np.zeros(100, dtype=np.int64)\n",
    "\n",
    "    for i, position in enumerate(positions):\n",
    "        for value in position:\n",
    "            if 0.0 < value < 1: condition[i] += 1\n",
    "\n",
    "    return condition\n",
    "\n",
    "def where():\n",
    "    test = np.where(np.array(\n",
    "            [0 < positions, positions < 1]).all(0), 1, 0)\n",
    "    condition = np.sum(test, axis=1, dtype=np.int64)\n",
    "\n",
    "    return condition\n",
    "\n",
    "def mask():\n",
    "    test = np.zeros_like(positions, dtype=np.int64)\n",
    "    test[np.array(\n",
    "            [0 < positions, positions < 1]).all(0)] = 1\n",
    "\n",
    "    condition = np.sum(test, axis=1)\n",
    "    return condition\n",
    "    \n",
    "    \n",
    "def mask2():\n",
    "    result = (0.0 < positions) & (positions < 1.0)\n",
    "    condition = result.astype(np.int64).sum(axis=1)\n",
    "    return condition"
   ]
  },
  {
   "cell_type": "code",
   "execution_count": 5,
   "metadata": {},
   "outputs": [
    {
     "name": "stdout",
     "output_type": "stream",
     "text": [
      "True\n",
      "True\n",
      "True\n"
     ]
    }
   ],
   "source": [
    "result1 = loop()\n",
    "result2 = where()\n",
    "result3 = mask()\n",
    "result4 = mask2()\n",
    "\n",
    "print(np.array_equal(result1, result2))\n",
    "print(np.array_equal(result1, result3))\n",
    "print(np.array_equal(result1, result4))"
   ]
  },
  {
   "cell_type": "code",
   "execution_count": 6,
   "metadata": {},
   "outputs": [
    {
     "name": "stdout",
     "output_type": "stream",
     "text": [
      "76.8 ms ± 1.38 ms per loop (mean ± std. dev. of 7 runs, 10 loops each)\n"
     ]
    }
   ],
   "source": [
    "%timeit _ = loop()"
   ]
  },
  {
   "cell_type": "code",
   "execution_count": 7,
   "metadata": {},
   "outputs": [
    {
     "name": "stdout",
     "output_type": "stream",
     "text": [
      "2.21 ms ± 3.89 µs per loop (mean ± std. dev. of 7 runs, 100 loops each)\n"
     ]
    }
   ],
   "source": [
    "%timeit _ = where()"
   ]
  },
  {
   "cell_type": "code",
   "execution_count": 8,
   "metadata": {},
   "outputs": [
    {
     "name": "stdout",
     "output_type": "stream",
     "text": [
      "2.9 ms ± 9.38 µs per loop (mean ± std. dev. of 7 runs, 100 loops each)\n"
     ]
    }
   ],
   "source": [
    "%timeit _ = mask()"
   ]
  },
  {
   "cell_type": "code",
   "execution_count": 9,
   "metadata": {},
   "outputs": [
    {
     "name": "stdout",
     "output_type": "stream",
     "text": [
      "1.12 ms ± 7.5 µs per loop (mean ± std. dev. of 7 runs, 1,000 loops each)\n"
     ]
    }
   ],
   "source": [
    "%timeit _ = mask2()"
   ]
  },
  {
   "cell_type": "code",
   "execution_count": 10,
   "metadata": {},
   "outputs": [
    {
     "name": "stdout",
     "output_type": "stream",
     "text": [
      "[2.33333333 3.66666667]\n",
      "[0.94280904 1.24721913]\n"
     ]
    }
   ],
   "source": [
    "drag = np.array([\n",
    "    [1,2],\n",
    "    [3,5],\n",
    "    [3,4],\n",
    "])\n",
    "\n",
    "print(np.mean(drag, axis=0))\n",
    "print(np.std(drag, axis=0))"
   ]
  },
  {
   "cell_type": "code",
   "execution_count": 11,
   "metadata": {},
   "outputs": [],
   "source": [
    "drag = []\n",
    "\n",
    "drag.append(np.array([1,2]))\n",
    "drag.append(np.array([3,5]))\n",
    "\n",
    "drag = np.array(drag)\n"
   ]
  },
  {
   "cell_type": "code",
   "execution_count": 12,
   "metadata": {},
   "outputs": [
    {
     "name": "stdout",
     "output_type": "stream",
     "text": [
      "position=array([[-2.02472839e-01,  1.59046438e+00,  5.16120262e-01,\n",
      "         2.15724153e+00, -3.09872184e-01,  1.21415018e-01,\n",
      "         4.14203509e-01,  1.01723136e+00, -1.16638066e+00,\n",
      "         1.51647177e+00],\n",
      "       [-2.10631348e+00,  1.43825293e+00, -1.49352156e+00,\n",
      "        -3.87447493e-04, -1.91589821e+00,  1.99471557e+00,\n",
      "         1.78852786e+00, -1.59081464e+00,  1.59900048e+00,\n",
      "         3.40245469e-01],\n",
      "       [-1.96835280e+00, -9.74416195e-01,  2.37097590e+00,\n",
      "        -1.51441365e+00, -2.15209061e+00,  6.58639864e-01,\n",
      "         4.58108533e-01,  9.35544290e-02,  1.43270183e+00,\n",
      "        -1.71974201e+00],\n",
      "       [ 1.17955948e+00, -1.72805905e+00, -7.73440542e-01,\n",
      "         2.17323365e+00,  3.18407672e-01, -2.47987901e+00,\n",
      "         1.22651908e+00,  9.49208837e-01, -2.33103985e+00,\n",
      "         1.83649994e+00],\n",
      "       [-5.02711305e-01,  1.46998045e-01, -1.62650173e+00,\n",
      "         3.42727339e-02, -1.38490717e-01,  1.20567914e+00,\n",
      "        -1.56753497e+00, -9.22059659e-01,  1.03972683e+00,\n",
      "        -4.00311864e-01],\n",
      "       [ 4.44296148e-01,  7.68559986e-01, -8.55344963e-01,\n",
      "         2.41275259e-01,  3.15189064e-01, -1.65952207e+00,\n",
      "        -4.95489984e-01,  2.19074261e+00, -2.44335992e+00,\n",
      "        -1.67319473e+00],\n",
      "       [ 2.09604117e+00, -2.62312343e-01, -3.39669263e-02,\n",
      "        -1.57598330e+00, -2.26499414e+00,  6.38488350e-02,\n",
      "         7.09339375e-01, -1.13677259e+00, -1.57818187e+00,\n",
      "         8.48837680e-01],\n",
      "       [-2.47662852e+00, -6.31436614e-02, -1.38779597e+00,\n",
      "        -7.07832791e-01, -1.51465418e+00, -2.25436293e+00,\n",
      "         1.35191230e+00, -1.57667830e+00,  3.57254927e-01,\n",
      "        -1.83088758e+00],\n",
      "       [ 1.10853258e+00, -2.22308174e+00, -1.91341762e+00,\n",
      "        -6.73276683e-01,  7.60066342e-01, -4.37924505e-01,\n",
      "        -1.01509841e+00, -1.86544090e+00,  2.44872628e-01,\n",
      "         2.05725071e+00],\n",
      "       [ 2.26835059e+00, -1.30560810e+00, -1.35710941e+00,\n",
      "        -1.31267803e+00, -1.67472029e+00,  1.66308132e+00,\n",
      "         1.42986476e+00,  2.37885097e+00,  1.21961234e+00,\n",
      "        -9.39932970e-02]])\n",
      "force=array([[-1.,  0.,  0.,  0., -1.,  1.,  1.,  0.,  0.,  0.],\n",
      "       [ 0.,  0.,  0., -1.,  0.,  0.,  0.,  0.,  0.,  1.],\n",
      "       [ 0.,  0.,  0.,  0.,  0.,  0.,  1.,  1.,  0.,  0.],\n",
      "       [ 0.,  0.,  0.,  0.,  1.,  0.,  0.,  0.,  0.,  0.],\n",
      "       [ 0.,  1.,  0.,  1., -1.,  0.,  0.,  0.,  0., -1.],\n",
      "       [ 1.,  0.,  0.,  1.,  1.,  0., -1.,  0.,  0.,  0.],\n",
      "       [ 0., -1., -1.,  0.,  0.,  1.,  0.,  0.,  0.,  0.],\n",
      "       [ 0., -1.,  0.,  0.,  0.,  0.,  0.,  0.,  1.,  0.],\n",
      "       [ 0.,  0.,  0.,  0.,  0., -1.,  0.,  0.,  1.,  0.],\n",
      "       [ 0.,  0.,  0.,  0.,  0.,  0.,  0.,  0.,  0., -1.]])\n"
     ]
    }
   ],
   "source": [
    "import numpy as np\n",
    "\n",
    "N_ensemble, N_particle = 10, 10\n",
    "Lambda, boundary = 1.0, 5.0\n",
    "slope = 1.0\n",
    "\n",
    "rng = np.random.default_rng()\n",
    "\n",
    "position = rng.uniform(\n",
    "            low=-boundary/2, high=boundary/2, size=(N_ensemble, N_particle))\n",
    "\n",
    "force = np.zeros(shape=(N_ensemble, N_particle))\n",
    "\n",
    "force = np.where(np.array(\n",
    "    [- Lambda / 2 < position, position < 0.0]).all(0), -slope, force)\n",
    "force = np.where(np.array(\n",
    "    [0.0 < position, position < Lambda / 2]).all(0), slope, force)\n",
    "\n",
    "print(f\"{position=}\\n{force=}\")"
   ]
  },
  {
   "cell_type": "code",
   "execution_count": 13,
   "metadata": {},
   "outputs": [],
   "source": [
    "@dataclass\n",
    "class Time:\n",
    "    force_update: float\n",
    "    position_update: float\n",
    "    periodic_update: float\n",
    "    colored_noise_update: float\n",
    "    drag_update: float\n",
    "    total: float\n",
    "\n",
    "    def to_log(self) -> str:\n",
    "        return \"s, \".join(\n",
    "            f\"{key}={np.round(log, 1)}\" for key, log in zip(asdict(self).keys(), asdict(self).values())\n",
    "        )"
   ]
  },
  {
   "cell_type": "code",
   "execution_count": 14,
   "metadata": {},
   "outputs": [
    {
     "name": "stdout",
     "output_type": "stream",
     "text": [
      "force_update=1s, position_update=2s, periodic_update=3s, colored_noise_update=4s, drag_update=5s, total=6\n"
     ]
    }
   ],
   "source": [
    "A = Time(1,2,3,4,5,6)\n",
    "\n",
    "print(A.to_log())"
   ]
  },
  {
   "cell_type": "code",
   "execution_count": null,
   "metadata": {},
   "outputs": [],
   "source": []
  }
 ],
 "metadata": {
  "kernelspec": {
   "display_name": "research",
   "language": "python",
   "name": "python3"
  },
  "language_info": {
   "codemirror_mode": {
    "name": "ipython",
    "version": 3
   },
   "file_extension": ".py",
   "mimetype": "text/x-python",
   "name": "python",
   "nbconvert_exporter": "python",
   "pygments_lexer": "ipython3",
   "version": "3.11.4"
  },
  "orig_nbformat": 4
 },
 "nbformat": 4,
 "nbformat_minor": 2
}
