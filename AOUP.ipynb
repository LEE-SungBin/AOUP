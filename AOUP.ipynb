{
 "cells": [
  {
   "cell_type": "code",
   "execution_count": 1,
   "metadata": {},
   "outputs": [],
   "source": [
    "import numpy as np\n",
    "import numpy.typing as npt\n",
    "import matplotlib.pyplot as plt\n",
    "import matplotlib.animation as animation\n",
    "from dataclasses import dataclass, field, asdict\n",
    "import argparse\n",
    "\n",
    "from AOUP import Parameter, AOUP"
   ]
  },
  {
   "cell_type": "code",
   "execution_count": 2,
   "metadata": {},
   "outputs": [
    {
     "name": "stdout",
     "output_type": "stream",
     "text": [
      "Parameter(N_particle=10000, N_ensemble=10, velocity=1.0, Lambda=1.0, boundary=5.0, N_bins=40, gamma=1.0, slope=5.0, temperature=1.0, tau=5.0, Da=5.0, delta_t=0.01, initial=1000, sampling=1000)\n"
     ]
    }
   ],
   "source": [
    "parameter = Parameter(\n",
    "    N_particle = 10000,\n",
    "    N_ensemble = 10,\n",
    "    velocity = 1.0,\n",
    "    Lambda = 1.0,\n",
    "    boundary = 5.0,\n",
    "    N_bins = 40,\n",
    "    gamma = 1.0,\n",
    "    slope = 5.0,\n",
    "    temperature = 1.0,\n",
    "    tau = 5.0,\n",
    "    Da = 5.0,\n",
    "    delta_t = 0.01,\n",
    "    initial = 1000,\n",
    "    sampling = 1000,\n",
    ")\n",
    "\n",
    "print(parameter)"
   ]
  },
  {
   "cell_type": "code",
   "execution_count": 3,
   "metadata": {},
   "outputs": [
    {
     "name": "stdout",
     "output_type": "stream",
     "text": [
      "0 0 1 2 3 4 5 6 7 8 9 10 11 12 13 14 15 16 17 "
     ]
    },
    {
     "name": "stdout",
     "output_type": "stream",
     "text": [
      "18 19 20 21 22 23 24 25 26 27 "
     ]
    }
   ],
   "source": [
    "aoup = AOUP(parameter)\n",
    "aoup.animation()"
   ]
  },
  {
   "cell_type": "code",
   "execution_count": null,
   "metadata": {},
   "outputs": [],
   "source": [
    "import numpy as np\n",
    "\n",
    "rng = np.random.default_rng()\n",
    "positions = rng.uniform(low=-5, high=5, size=(100, 10000))\n",
    "\n",
    "def loop():\n",
    "    condition = np.zeros(100, dtype=np.int64)\n",
    "\n",
    "    for i, position in enumerate(positions):\n",
    "        for value in position:\n",
    "            if 0.0 < value < 1: condition[i] += 1\n",
    "\n",
    "    return condition\n",
    "\n",
    "def where():\n",
    "    test = np.where(np.array(\n",
    "            [0 < positions, positions < 1]).all(0), 1, 0)\n",
    "    condition = np.sum(test, axis=1, dtype=np.int64)\n",
    "\n",
    "    return condition\n",
    "\n",
    "def mask():\n",
    "    test = np.zeros_like(positions, dtype=np.int64)\n",
    "    test[np.array(\n",
    "            [0 < positions, positions < 1]).all(0)] = 1\n",
    "\n",
    "    condition = np.sum(test, axis=1)\n",
    "    return condition\n",
    "    \n",
    "    \n",
    "def mask2():\n",
    "    result = (0.0 < positions) & (positions < 1.0)\n",
    "    condition = result.astype(np.int64).sum(axis=1)\n",
    "    return condition"
   ]
  },
  {
   "cell_type": "code",
   "execution_count": null,
   "metadata": {},
   "outputs": [
    {
     "name": "stdout",
     "output_type": "stream",
     "text": [
      "True\n",
      "True\n",
      "True\n"
     ]
    }
   ],
   "source": [
    "result1 = loop()\n",
    "result2 = where()\n",
    "result3 = mask()\n",
    "result4 = mask2()\n",
    "\n",
    "print(np.array_equal(result1, result2))\n",
    "print(np.array_equal(result1, result3))\n",
    "print(np.array_equal(result1, result4))"
   ]
  },
  {
   "cell_type": "code",
   "execution_count": null,
   "metadata": {},
   "outputs": [
    {
     "name": "stdout",
     "output_type": "stream",
     "text": [
      "79.3 ms ± 178 µs per loop (mean ± std. dev. of 7 runs, 10 loops each)\n"
     ]
    }
   ],
   "source": [
    "%timeit _ = loop()"
   ]
  },
  {
   "cell_type": "code",
   "execution_count": null,
   "metadata": {},
   "outputs": [
    {
     "name": "stdout",
     "output_type": "stream",
     "text": [
      "2.28 ms ± 11.6 µs per loop (mean ± std. dev. of 7 runs, 100 loops each)\n"
     ]
    }
   ],
   "source": [
    "%timeit _ = where()"
   ]
  },
  {
   "cell_type": "code",
   "execution_count": null,
   "metadata": {},
   "outputs": [
    {
     "name": "stdout",
     "output_type": "stream",
     "text": [
      "2.92 ms ± 10.8 µs per loop (mean ± std. dev. of 7 runs, 100 loops each)\n"
     ]
    }
   ],
   "source": [
    "%timeit _ = mask()"
   ]
  },
  {
   "cell_type": "code",
   "execution_count": null,
   "metadata": {},
   "outputs": [
    {
     "name": "stdout",
     "output_type": "stream",
     "text": [
      "1.17 ms ± 2.29 µs per loop (mean ± std. dev. of 7 runs, 1,000 loops each)\n"
     ]
    }
   ],
   "source": [
    "%timeit _ = mask2()"
   ]
  },
  {
   "cell_type": "code",
   "execution_count": null,
   "metadata": {},
   "outputs": [
    {
     "name": "stdout",
     "output_type": "stream",
     "text": [
      "[2.33333333 3.66666667]\n",
      "[0.94280904 1.24721913]\n"
     ]
    }
   ],
   "source": [
    "drag = np.array([\n",
    "    [1,2],\n",
    "    [3,5],\n",
    "    [3,4],\n",
    "])\n",
    "\n",
    "print(np.mean(drag, axis=0))\n",
    "print(np.std(drag, axis=0))"
   ]
  },
  {
   "cell_type": "code",
   "execution_count": null,
   "metadata": {},
   "outputs": [],
   "source": [
    "drag = []\n",
    "\n",
    "drag.append(np.array([1,2]))\n",
    "drag.append(np.array([3,5]))\n",
    "\n",
    "drag = np.array(drag)\n"
   ]
  },
  {
   "cell_type": "code",
   "execution_count": null,
   "metadata": {},
   "outputs": [
    {
     "name": "stdout",
     "output_type": "stream",
     "text": [
      "position=array([[-0.53022225, -0.56097599, -0.97990311, -0.60451564, -1.29548629,\n",
      "        -1.23575069,  1.25482922,  0.98495698, -2.452889  , -1.42298154],\n",
      "       [ 1.0997309 ,  2.2311734 ,  0.02773455, -1.62986247,  2.14549824,\n",
      "        -0.59177574,  1.05493421, -1.5665671 , -0.22549991,  2.02969667],\n",
      "       [-0.0407378 ,  0.81020423, -2.28585314, -2.11506653, -0.18762254,\n",
      "        -1.27392456, -0.41671785,  0.14657614, -1.86693559, -1.96270573],\n",
      "       [-2.47179683, -1.7562906 ,  0.73420777, -1.43158541,  2.22755654,\n",
      "        -1.4074691 , -1.04435921,  2.20892264, -1.63155133, -2.20572304],\n",
      "       [ 2.47165306, -0.02018486,  1.66116819, -0.9056506 ,  0.83812444,\n",
      "        -0.66253588,  2.30876082,  2.40829741, -2.46597206, -1.10758353],\n",
      "       [-0.45351225, -0.80366685,  0.87183167, -2.0813027 , -0.69954673,\n",
      "         0.20552138, -0.80026499, -2.44400058, -1.88050641, -1.57081315],\n",
      "       [-1.57810033,  0.88110524, -1.1800601 , -2.3024927 ,  1.46332484,\n",
      "         1.24286769, -0.37257323,  0.96903383, -0.60388382, -0.85947245],\n",
      "       [ 2.15732451, -1.8552676 ,  0.86466171, -0.75418292, -2.36378513,\n",
      "         2.20647978, -1.38972466,  1.67286954,  0.01202961,  2.05208797],\n",
      "       [-0.45770333, -0.53740715,  1.68893173,  0.46261956, -1.70248449,\n",
      "        -1.5981001 ,  0.5147702 ,  1.23034527,  1.99098344,  1.82782977],\n",
      "       [-2.06007784,  0.21515047, -0.22595052, -0.8958467 ,  1.4375715 ,\n",
      "         1.77350993, -1.3067513 , -1.29647739,  1.61975035, -1.65810478]])\n",
      "force=array([[ 0.,  0.,  0.,  0.,  0.,  0.,  0.,  0.,  0.,  0.],\n",
      "       [ 0.,  0.,  1.,  0.,  0.,  0.,  0.,  0., -1.,  0.],\n",
      "       [-1.,  0.,  0.,  0., -1.,  0., -1.,  1.,  0.,  0.],\n",
      "       [ 0.,  0.,  0.,  0.,  0.,  0.,  0.,  0.,  0.,  0.],\n",
      "       [ 0., -1.,  0.,  0.,  0.,  0.,  0.,  0.,  0.,  0.],\n",
      "       [-1.,  0.,  0.,  0.,  0.,  1.,  0.,  0.,  0.,  0.],\n",
      "       [ 0.,  0.,  0.,  0.,  0.,  0., -1.,  0.,  0.,  0.],\n",
      "       [ 0.,  0.,  0.,  0.,  0.,  0.,  0.,  0.,  1.,  0.],\n",
      "       [-1.,  0.,  0.,  1.,  0.,  0.,  0.,  0.,  0.,  0.],\n",
      "       [ 0.,  1., -1.,  0.,  0.,  0.,  0.,  0.,  0.,  0.]])\n"
     ]
    }
   ],
   "source": [
    "import numpy as np\n",
    "\n",
    "N_ensemble, N_particle = 10, 10\n",
    "Lambda, boundary = 1.0, 5.0\n",
    "slope = 1.0\n",
    "\n",
    "rng = np.random.default_rng()\n",
    "\n",
    "position = rng.uniform(\n",
    "            low=-boundary/2, high=boundary/2, size=(N_ensemble, N_particle))\n",
    "\n",
    "force = np.zeros(shape=(N_ensemble, N_particle))\n",
    "\n",
    "force = np.where(np.array(\n",
    "    [- Lambda / 2 < position, position < 0.0]).all(0), -slope, force)\n",
    "force = np.where(np.array(\n",
    "    [0.0 < position, position < Lambda / 2]).all(0), slope, force)\n",
    "\n",
    "print(f\"{position=}\\n{force=}\")"
   ]
  },
  {
   "cell_type": "code",
   "execution_count": null,
   "metadata": {},
   "outputs": [],
   "source": [
    "@dataclass\n",
    "class Time:\n",
    "    force_update: float\n",
    "    position_update: float\n",
    "    periodic_update: float\n",
    "    colored_noise_update: float\n",
    "    drag_update: float\n",
    "    total: float\n",
    "\n",
    "    def to_log(self) -> str:\n",
    "        return \"s, \".join(\n",
    "            f\"{key}={np.round(log, 1)}\" for key, log in zip(asdict(self).keys(), asdict(self).values())\n",
    "        )"
   ]
  },
  {
   "cell_type": "code",
   "execution_count": null,
   "metadata": {},
   "outputs": [
    {
     "name": "stdout",
     "output_type": "stream",
     "text": [
      "force_update=1s, position_update=2s, periodic_update=3s, colored_noise_update=4s, drag_update=5s, total=6\n"
     ]
    }
   ],
   "source": [
    "A = Time(1,2,3,4,5,6)\n",
    "\n",
    "print(A.to_log())"
   ]
  },
  {
   "cell_type": "code",
   "execution_count": null,
   "metadata": {},
   "outputs": [],
   "source": []
  }
 ],
 "metadata": {
  "kernelspec": {
   "display_name": "research",
   "language": "python",
   "name": "python3"
  },
  "language_info": {
   "codemirror_mode": {
    "name": "ipython",
    "version": 3
   },
   "file_extension": ".py",
   "mimetype": "text/x-python",
   "name": "python",
   "nbconvert_exporter": "python",
   "pygments_lexer": "ipython3",
   "version": "3.11.4"
  },
  "orig_nbformat": 4
 },
 "nbformat": 4,
 "nbformat_minor": 2
}
